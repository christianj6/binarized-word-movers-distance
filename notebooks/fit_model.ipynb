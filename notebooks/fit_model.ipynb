{
 "cells": [
  {
   "cell_type": "code",
   "execution_count": 1,
   "metadata": {},
   "outputs": [],
   "source": [
    "from bwmd.tools import load_vectors, convert_vectors_to_dict\n",
    "from bwmd.compressor import Compressor\n",
    "from bwmd.partition import build_partitions_lookup_tables\n",
    "from bwmd.distance import BWMD"
   ]
  },
  {
   "cell_type": "code",
   "execution_count": 2,
   "metadata": {},
   "outputs": [],
   "source": [
    "PATH = 'crawl-300d-2M.vec'\n",
    "ORIGINAL_DIM = 300\n",
    "REDUCED_DIM = 512\n",
    "COMPRESSION = 'bool_'"
   ]
  },
  {
   "cell_type": "code",
   "execution_count": 3,
   "metadata": {},
   "outputs": [
    {
     "name": "stderr",
     "output_type": "stream",
     "text": [
      "100%|████████████████████████████████████████████████████████████████████| 100000/100000 [00:20<00:00, 4903.58it/s]\n"
     ]
    }
   ],
   "source": [
    "# Load real-valued vectors.\n",
    "vectors, words = load_vectors(\n",
    "    path=PATH,\n",
    "    size=100_000,\n",
    "    expected_dimensions=ORIGINAL_DIM,\n",
    "    skip_first_line=True,\n",
    ")"
   ]
  },
  {
   "cell_type": "code",
   "execution_count": 4,
   "metadata": {},
   "outputs": [],
   "source": [
    "# Instantiate compressor.\n",
    "compressor = Compressor(\n",
    "    original_dimensions=ORIGINAL_DIM,\n",
    "    reduced_dimensions=REDUCED_DIM,\n",
    "    compression=COMPRESSION,\n",
    ")"
   ]
  },
  {
   "cell_type": "code",
   "execution_count": 5,
   "metadata": {
    "scrolled": true
   },
   "outputs": [
    {
     "name": "stdout",
     "output_type": "stream",
     "text": [
      "Epoch:  0\t\tLoss:  4156.976\n",
      "Epoch:  1\t\tLoss:  2285.002\n",
      "Epoch:  2\t\tLoss:  1316.982\n",
      "Epoch:  3\t\tLoss:  817.099\n",
      "Epoch:  4\t\tLoss:  573.012\n",
      "Epoch:  5\t\tLoss:  466.862\n",
      "Epoch:  6\t\tLoss:  436.262\n",
      "Epoch:  7\t\tLoss:  435.91\n",
      "Epoch:  8\t\tLoss:  435.609\n",
      "Epoch:  9\t\tLoss:  434.806\n"
     ]
    }
   ],
   "source": [
    "# Fit compressor to the data.\n",
    "compressor.fit(vectors, epochs=10)"
   ]
  },
  {
   "cell_type": "code",
   "execution_count": 6,
   "metadata": {},
   "outputs": [
    {
     "name": "stderr",
     "output_type": "stream",
     "text": [
      "100%|██████████████████████████████████████████████████████████████████████| 30000/30000 [00:04<00:00, 6214.70it/s]\n"
     ]
    },
    {
     "name": "stdout",
     "output_type": "stream",
     "text": [
      "Encoding vectors ...\n",
      "Exporting compressed vectors ...\n"
     ]
    }
   ],
   "source": [
    "# Transform and save original vectors.\n",
    "output_dir = compressor.transform(PATH, save=True, n_vectors=30_000)"
   ]
  },
  {
   "cell_type": "code",
   "execution_count": 7,
   "metadata": {},
   "outputs": [
    {
     "name": "stderr",
     "output_type": "stream",
     "text": [
      "100%|█████████████████████████████████████████████████████████████████████| 30000/30000 [00:01<00:00, 28299.85it/s]\n"
     ]
    }
   ],
   "source": [
    "# Create a set of lookup tables from the exported model.\n",
    "vectors, words = load_vectors(\n",
    "    path=f'{output_dir}\\\\vectors.txtc',\n",
    "    size=30_000,\n",
    "    expected_dimensions=REDUCED_DIM,\n",
    "    expected_dtype=COMPRESSION,\n",
    ")\n",
    "# Convert to dict.\n",
    "vectors_compressed = convert_vectors_to_dict(vectors, words)"
   ]
  },
  {
   "cell_type": "code",
   "execution_count": 8,
   "metadata": {},
   "outputs": [
    {
     "name": "stdout",
     "output_type": "stream",
     "text": [
      "Making 100 partitionings of size 2048\n"
     ]
    },
    {
     "name": "stderr",
     "output_type": "stream",
     "text": [
      "100%|████████████████████████████████████████████████████████████████████████████| 100/100 [09:00<00:00,  5.40s/it]\n"
     ]
    },
    {
     "name": "stdout",
     "output_type": "stream",
     "text": [
      "Time to compute partitionings:  540.234\n",
      "Loading partitionings ...\n"
     ]
    },
    {
     "name": "stderr",
     "output_type": "stream",
     "text": [
      "100%|████████████████████████████████████████████████████████████████████████████| 100/100 [00:14<00:00,  7.08it/s]\n"
     ]
    },
    {
     "name": "stdout",
     "output_type": "stream",
     "text": [
      "Organizing associated words for all tokens ...\n"
     ]
    },
    {
     "name": "stderr",
     "output_type": "stream",
     "text": [
      "100%|███████████████████████████████████████████████████████████████████████| 28117/28117 [01:48<00:00, 258.06it/s]\n"
     ]
    },
    {
     "name": "stdout",
     "output_type": "stream",
     "text": [
      "Loading raw vectors ...\n"
     ]
    },
    {
     "name": "stderr",
     "output_type": "stream",
     "text": [
      "100%|██████████████████████████████████████████████████████████████████████| 28117/28117 [00:05<00:00, 5410.12it/s]\n"
     ]
    },
    {
     "name": "stdout",
     "output_type": "stream",
     "text": [
      "Loading wordlists ...\n"
     ]
    },
    {
     "name": "stderr",
     "output_type": "stream",
     "text": [
      "100%|███████████████████████████████████████████████████████████████████████| 28116/28116 [01:32<00:00, 303.46it/s]\n"
     ]
    },
    {
     "name": "stdout",
     "output_type": "stream",
     "text": [
      "Computing cosine distances for each token ...\n"
     ]
    },
    {
     "name": "stderr",
     "output_type": "stream",
     "text": [
      "100%|██████████████████████████████████████████████████████████████████████| 28116/28116 [00:13<00:00, 2096.15it/s]\n"
     ]
    },
    {
     "name": "stdout",
     "output_type": "stream",
     "text": [
      "Time to compute lookup tables:  241.579\n"
     ]
    },
    {
     "data": {
      "text/plain": [
       "'crawl-300d-2M'"
      ]
     },
     "execution_count": 8,
     "metadata": {},
     "output_type": "execute_result"
    }
   ],
   "source": [
    "# Build and save the lookup tables.\n",
    "model_path = build_partitions_lookup_tables(\n",
    "    vectors_compressed,\n",
    "    I=11,\n",
    "    real_value_path=PATH,\n",
    "    vector_dim=REDUCED_DIM,\n",
    ")"
   ]
  },
  {
   "cell_type": "code",
   "execution_count": 12,
   "metadata": {},
   "outputs": [
    {
     "name": "stderr",
     "output_type": "stream",
     "text": [
      "100%|█████████████████████████████████████████████████████████████████████| 30000/30000 [00:00<00:00, 30597.10it/s]\n"
     ]
    }
   ],
   "source": [
    "# Instantiate bwmd object.\n",
    "bwmd = BWMD(\n",
    "    model_path=model_path,\n",
    "    dim=REDUCED_DIM,\n",
    "    size_vocab=30_000,\n",
    "    language=\"english\",\n",
    ")"
   ]
  },
  {
   "cell_type": "code",
   "execution_count": 13,
   "metadata": {},
   "outputs": [],
   "source": [
    "# Instantiate corpus of texts.\n",
    "corpus = [\n",
    "    'Obama speaks to the media in Illinois',\n",
    "    'The President greets the press in Chicago',\n",
    "    'This sentence is unrelated'\n",
    "]\n",
    "# Distance measures require docs as lists of strings.\n",
    "corpus = [doc.split() for doc in corpus]\n",
    "corpus = bwmd.preprocess_corpus(corpus)"
   ]
  },
  {
   "cell_type": "code",
   "execution_count": 14,
   "metadata": {},
   "outputs": [
    {
     "name": "stderr",
     "output_type": "stream",
     "text": [
      "100%|███████████████████████████████████████████████████████████████████████████████| 3/3 [00:00<00:00, 187.63it/s]\n"
     ]
    },
    {
     "data": {
      "text/plain": [
       "array([[0.        , 0.25683594, 0.29711914],\n",
       "       [0.25683594, 0.        , 0.27783203],\n",
       "       [0.29711914, 0.27783203, 0.        ]])"
      ]
     },
     "execution_count": 14,
     "metadata": {},
     "output_type": "execute_result"
    }
   ],
   "source": [
    "# Get pairwise distance.\n",
    "bwmd.pairwise(corpus)"
   ]
  },
  {
   "cell_type": "code",
   "execution_count": null,
   "metadata": {},
   "outputs": [],
   "source": []
  }
 ],
 "metadata": {
  "kernelspec": {
   "display_name": "Python 3 (ipykernel)",
   "language": "python",
   "name": "python3"
  },
  "language_info": {
   "codemirror_mode": {
    "name": "ipython",
    "version": 3
   },
   "file_extension": ".py",
   "mimetype": "text/x-python",
   "name": "python",
   "nbconvert_exporter": "python",
   "pygments_lexer": "ipython3",
   "version": "3.9.5"
  }
 },
 "nbformat": 4,
 "nbformat_minor": 2
}
