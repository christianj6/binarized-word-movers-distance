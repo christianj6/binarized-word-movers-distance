{
 "cells": [
  {
   "cell_type": "code",
   "execution_count": 1,
   "metadata": {},
   "outputs": [],
   "source": [
    "import sys\n",
    "sys.path.insert(0, 'C:\\\\Users\\\\Christian\\\\Anaconda3\\\\envs\\\\bwmd\\\\Lib\\\\site-packages')"
   ]
  },
  {
   "cell_type": "code",
   "execution_count": 2,
   "metadata": {},
   "outputs": [],
   "source": [
    "from bwmd.compressor import Compressor, load_vectors\n",
    "from bwmd.distance import convert_vectors_to_dict, build_partitions_lookup_tables, BWMD"
   ]
  },
  {
   "cell_type": "code",
   "execution_count": 3,
   "metadata": {},
   "outputs": [],
   "source": [
    "PATH = 'cc.de.300.vec'\n",
    "ORIGINAL_DIM = 300\n",
    "REDUCED_DIM = 512\n",
    "COMPRESSION = 'bool_'"
   ]
  },
  {
   "cell_type": "code",
   "execution_count": 4,
   "metadata": {},
   "outputs": [
    {
     "name": "stderr",
     "output_type": "stream",
     "text": [
      "100%|███████████████████████████████████████████████████████████████████████| 100000/100000 [00:08<00:00, 12041.41it/s]\n"
     ]
    }
   ],
   "source": [
    "# Load real-valued vectors.\n",
    "vectors = load_vectors(\n",
    "    path=PATH,\n",
    "    size=100_000,\n",
    "    expected_dimensions=ORIGINAL_DIM,\n",
    "    skip_first_line=True,\n",
    ")"
   ]
  },
  {
   "cell_type": "code",
   "execution_count": 5,
   "metadata": {},
   "outputs": [],
   "source": [
    "# Instantiate compressor.\n",
    "compressor = Compressor(\n",
    "    original_dimensions=ORIGINAL_DIM,\n",
    "    reduced_dimensions=REDUCED_DIM,\n",
    "    compression=COMPRESSION,\n",
    ")"
   ]
  },
  {
   "cell_type": "code",
   "execution_count": 6,
   "metadata": {
    "scrolled": true
   },
   "outputs": [
    {
     "name": "stdout",
     "output_type": "stream",
     "text": [
      "Epoch:  0\t\tLoss:  4170.484\n",
      "Epoch:  1\t\tLoss:  2292.445\n",
      "Epoch:  2\t\tLoss:  1320.237\n",
      "Epoch:  3\t\tLoss:  818.222\n",
      "Epoch:  4\t\tLoss:  573.002\n",
      "Epoch:  5\t\tLoss:  466.732\n",
      "Epoch:  6\t\tLoss:  436.229\n",
      "Epoch:  7\t\tLoss:  435.429\n",
      "Epoch:  8\t\tLoss:  435.145\n",
      "Epoch:  9\t\tLoss:  434.322\n"
     ]
    },
    {
     "data": {
      "image/png": "[encoded data removed]",
      "text/plain": [
       "<Figure size 432x288 with 1 Axes>"
      ]
     },
     "metadata": {
      "needs_background": "light"
     },
     "output_type": "display_data"
    }
   ],
   "source": [
    "# Fit compressor to the data.\n",
    "compressor.fit(vectors, epochs=10)"
   ]
  },
  {
   "cell_type": "code",
   "execution_count": 7,
   "metadata": {},
   "outputs": [
    {
     "name": "stderr",
     "output_type": "stream",
     "text": [
      "100%|█████████████████████████████████████████████████████████████████████████| 30000/30000 [00:02<00:00, 10926.46it/s]\n"
     ]
    },
    {
     "name": "stdout",
     "output_type": "stream",
     "text": [
      "Encoding vectors ...\n",
      "Exporting compressed vectors ...\n",
      "Vectors of size 896 bits reduced to 4108 bits.\n"
     ]
    }
   ],
   "source": [
    "# Transform and save original vectors.\n",
    "output_dir = compressor.transform(PATH, ORIGINAL_DIM, n_vectors=30_000)"
   ]
  },
  {
   "cell_type": "code",
   "execution_count": 8,
   "metadata": {},
   "outputs": [
    {
     "name": "stderr",
     "output_type": "stream",
     "text": [
      "100%|██████████████████████████████████████████████████████████████████████████| 20000/20000 [00:02<00:00, 6884.51it/s]\n"
     ]
    }
   ],
   "source": [
    "# Create a set of lookup tables from the exported model.\n",
    "vectors, words = load_vectors(\n",
    "    path=f'{output_dir}\\\\vectors.txtc',\n",
    "    size=20_000,\n",
    "    expected_dimensions=REDUCED_DIM,\n",
    "    expected_dtype=COMPRESSION,\n",
    "    get_words=True,\n",
    ")\n",
    "# Convert to dict.\n",
    "vectors = convert_vectors_to_dict(vectors, words)"
   ]
  },
  {
   "cell_type": "code",
   "execution_count": 9,
   "metadata": {},
   "outputs": [
    {
     "name": "stderr",
     "output_type": "stream",
     "text": [
      "\r",
      "  0%|                                                                                          | 0/100 [00:00<?, ?it/s]"
     ]
    },
    {
     "name": "stdout",
     "output_type": "stream",
     "text": [
      "Making 100 partitionings of size 2048\n"
     ]
    },
    {
     "name": "stderr",
     "output_type": "stream",
     "text": [
      "100%|████████████████████████████████████████████████████████████████████████████████| 100/100 [01:05<00:00,  1.52it/s]\n",
      " 10%|████████                                                                         | 10/100 [00:00<00:01, 86.72it/s]"
     ]
    },
    {
     "name": "stdout",
     "output_type": "stream",
     "text": [
      "Time to compute partitionings:  65.674\n",
      "Loading partitionings ...\n"
     ]
    },
    {
     "name": "stderr",
     "output_type": "stream",
     "text": [
      "100%|████████████████████████████████████████████████████████████████████████████████| 100/100 [00:01<00:00, 68.92it/s]\n",
      "  0%|▎                                                                             | 77/20000 [00:00<00:28, 706.17it/s]"
     ]
    },
    {
     "name": "stdout",
     "output_type": "stream",
     "text": [
      "Organizing associated words for all tokens ...\n"
     ]
    },
    {
     "name": "stderr",
     "output_type": "stream",
     "text": [
      "100%|███████████████████████████████████████████████████████████████████████████| 20000/20000 [00:51<00:00, 386.97it/s]\n",
      "  3%|██▍                                                                         | 653/20000 [00:00<00:03, 6130.95it/s]"
     ]
    },
    {
     "name": "stdout",
     "output_type": "stream",
     "text": [
      "Loading raw vectors ...\n"
     ]
    },
    {
     "name": "stderr",
     "output_type": "stream",
     "text": [
      "100%|██████████████████████████████████████████████████████████████████████████| 20000/20000 [00:03<00:00, 6624.27it/s]\n",
      "  0%|                                                                              | 15/19999 [00:00<02:27, 135.31it/s]"
     ]
    },
    {
     "name": "stdout",
     "output_type": "stream",
     "text": [
      "Loading wordlists ...\n"
     ]
    },
    {
     "name": "stderr",
     "output_type": "stream",
     "text": [
      "100%|███████████████████████████████████████████████████████████████████████████| 19999/19999 [01:37<00:00, 204.44it/s]\n",
      "  0%|▏                                                                             | 35/19999 [00:00<00:57, 346.54it/s]"
     ]
    },
    {
     "name": "stdout",
     "output_type": "stream",
     "text": [
      "Computing cosine distances for each token ...\n"
     ]
    },
    {
     "name": "stderr",
     "output_type": "stream",
     "text": [
      "100%|███████████████████████████████████████████████████████████████████████████| 19999/19999 [01:18<00:00, 254.87it/s]\n"
     ]
    },
    {
     "name": "stdout",
     "output_type": "stream",
     "text": [
      "Time to compute lookup tables:  236.524\n"
     ]
    }
   ],
   "source": [
    "# Build and save the lookup tables.\n",
    "model = build_partitions_lookup_tables(\n",
    "    vectors=vectors,\n",
    "    I=11,\n",
    "    real_value_path=PATH,\n",
    "    vector_size=REDUCED_DIM,\n",
    ")"
   ]
  },
  {
   "cell_type": "code",
   "execution_count": 10,
   "metadata": {},
   "outputs": [
    {
     "name": "stderr",
     "output_type": "stream",
     "text": [
      "  0%|                                                                              | 14/19986 [00:00<02:31, 132.08it/s]"
     ]
    },
    {
     "name": "stdout",
     "output_type": "stream",
     "text": [
      "Loading all lookup tables ...\n"
     ]
    },
    {
     "name": "stderr",
     "output_type": "stream",
     "text": [
      "100%|███████████████████████████████████████████████████████████████████████████| 19986/19986 [01:46<00:00, 187.08it/s]\n",
      "100%|██████████████████████████████████████████████████████████████████████████| 20000/20000 [00:02<00:00, 7293.02it/s]\n"
     ]
    }
   ],
   "source": [
    "# Instantiate bwmd object.\n",
    "bwmd = BWMD(\n",
    "    model_path=model,\n",
    "    dim=REDUCED_DIM,\n",
    "    with_syntax=False,\n",
    "    full_cache=True\n",
    ")"
   ]
  },
  {
   "cell_type": "code",
   "execution_count": 11,
   "metadata": {},
   "outputs": [],
   "source": [
    "# Instantiate corpus of texts.\n",
    "corpus = [\n",
    "    \"Obama spricht mit den Medien in Illinois\",\n",
    "    \"Der Präsident begrüßt die Presse in Chicago\",\n",
    "    \"Dieser Satz hat nichts zu tun\"\n",
    "]\n",
    "# Distance measures require docs as lists of strings.\n",
    "corpus = [doc.split() for doc in corpus]"
   ]
  },
  {
   "cell_type": "code",
   "execution_count": 12,
   "metadata": {},
   "outputs": [
    {
     "name": "stderr",
     "output_type": "stream",
     "text": [
      "100%|███████████████████████████████████████████████████████████████████████████████████| 3/3 [00:00<00:00, 272.71it/s]\n"
     ]
    },
    {
     "data": {
      "text/plain": [
       "array([[0.        , 0.25846354, 0.28971354],\n",
       "       [0.25846354, 0.        , 0.28173828],\n",
       "       [0.28971354, 0.28173828, 0.08672225]])"
      ]
     },
     "execution_count": 12,
     "metadata": {},
     "output_type": "execute_result"
    }
   ],
   "source": [
    "# Get pairwise distance.\n",
    "bwmd.pairwise(corpus)"
   ]
  }
 ],
 "metadata": {
  "kernelspec": {
   "display_name": "Python 3",
   "language": "python",
   "name": "python3"
  },
  "language_info": {
   "codemirror_mode": {
    "name": "ipython",
    "version": 3
   },
   "file_extension": ".py",
   "mimetype": "text/x-python",
   "name": "python",
   "nbconvert_exporter": "python",
   "pygments_lexer": "ipython3",
   "version": "3.7.4"
  }
 },
 "nbformat": 4,
 "nbformat_minor": 2
}
