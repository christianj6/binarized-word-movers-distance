{
 "cells": [
  {
   "cell_type": "code",
   "execution_count": 1,
   "metadata": {},
   "outputs": [],
   "source": [
    "import sys\n",
    "sys.path.insert(0, 'C:\\\\Users\\\\Christian\\\\Anaconda3\\\\envs\\\\bwmd\\\\Lib\\\\site-packages')"
   ]
  },
  {
   "cell_type": "code",
   "execution_count": 2,
   "metadata": {},
   "outputs": [],
   "source": [
    "from bwmd.distance import BWMD"
   ]
  },
  {
   "cell_type": "code",
   "execution_count": 3,
   "metadata": {},
   "outputs": [
    {
     "name": "stderr",
     "output_type": "stream",
     "text": [
      "  2%|█▍                                                                          | 377/20000 [00:00<00:05, 3748.27it/s]"
     ]
    },
    {
     "name": "stdout",
     "output_type": "stream",
     "text": [
      "Loading all lookup tables ...\n"
     ]
    },
    {
     "name": "stderr",
     "output_type": "stream",
     "text": [
      "100%|██████████████████████████████████████████████████████████████████████████| 20000/20000 [00:05<00:00, 3673.34it/s]\n",
      "100%|██████████████████████████████████████████████████████████████████████████| 20000/20000 [00:02<00:00, 7667.59it/s]\n"
     ]
    }
   ],
   "source": [
    "# Instantiate bwmd object.\n",
    "bwmd = BWMD(\n",
    "    model_path=\"glove-512\",\n",
    "    dim=512,\n",
    "    with_syntax=False,\n",
    "    full_cache=True\n",
    ")"
   ]
  },
  {
   "cell_type": "code",
   "execution_count": 4,
   "metadata": {},
   "outputs": [],
   "source": [
    "# Instantiate corpus of texts.\n",
    "corpus = [\n",
    "    'Obama speaks to the media in Illinois',\n",
    "    'The President greets the press in Chicago',\n",
    "    'This sentence is unrelated'\n",
    "]\n",
    "# Distance measures require docs as lists of strings.\n",
    "corpus = [doc.split() for doc in corpus]"
   ]
  },
  {
   "cell_type": "code",
   "execution_count": 5,
   "metadata": {},
   "outputs": [
    {
     "data": {
      "text/plain": [
       "array([[0.        , 0.23999023, 0.31298828],\n",
       "       [0.23999023, 0.        , 0.31502279],\n",
       "       [0.31298828, 0.31502279, 0.        ]])"
      ]
     },
     "execution_count": 5,
     "metadata": {},
     "output_type": "execute_result"
    }
   ],
   "source": [
    "# Get pairwise distance.\n",
    "bwmd.pairwise(corpus)"
   ]
  }
 ],
 "metadata": {
  "kernelspec": {
   "display_name": "Python 3",
   "language": "python",
   "name": "python3"
  },
  "language_info": {
   "codemirror_mode": {
    "name": "ipython",
    "version": 3
   },
   "file_extension": ".py",
   "mimetype": "text/x-python",
   "name": "python",
   "nbconvert_exporter": "python",
   "pygments_lexer": "ipython3",
   "version": "3.7.4"
  }
 },
 "nbformat": 4,
 "nbformat_minor": 2
}
