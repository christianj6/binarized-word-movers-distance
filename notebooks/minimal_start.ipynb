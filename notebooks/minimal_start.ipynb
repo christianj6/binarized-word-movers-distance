{
 "cells": [
  {
   "cell_type": "code",
   "execution_count": 1,
   "metadata": {},
   "outputs": [],
   "source": [
    "from bwmd.distance import BWMD"
   ]
  },
  {
   "cell_type": "code",
   "execution_count": 2,
   "metadata": {},
   "outputs": [
    {
     "name": "stderr",
     "output_type": "stream",
     "text": [
      "100%|█████████████████████████████████████████████████████████████████████| 30000/30000 [00:01<00:00, 27190.62it/s]\n"
     ]
    }
   ],
   "source": [
    "# Instantiate bwmd object.\n",
    "bwmd = BWMD(\n",
    "    model_path=\"crawl-300d-2M\",\n",
    "    dim=512,\n",
    "    size_vocab=30_000,\n",
    "    language=\"english\",\n",
    ")"
   ]
  },
  {
   "cell_type": "code",
   "execution_count": 3,
   "metadata": {},
   "outputs": [],
   "source": [
    "# Instantiate corpus of texts.\n",
    "corpus = [\n",
    "    'Obama speaks to the media in Illinois',\n",
    "    'The President greets the press in Chicago',\n",
    "    'This sentence is unrelated'\n",
    "]\n",
    "# Distance measures require docs as lists of strings.\n",
    "corpus = bwmd.preprocess_corpus([doc.split() for doc in corpus])"
   ]
  },
  {
   "cell_type": "code",
   "execution_count": 4,
   "metadata": {},
   "outputs": [
    {
     "name": "stderr",
     "output_type": "stream",
     "text": [
      "100%|███████████████████████████████████████████████████████████████████████████████| 3/3 [00:00<00:00, 600.30it/s]\n"
     ]
    },
    {
     "data": {
      "text/plain": [
       "array([[0.        , 0.25683594, 0.29711914],\n",
       "       [0.25683594, 0.        , 0.27783203],\n",
       "       [0.29711914, 0.27783203, 0.        ]])"
      ]
     },
     "execution_count": 4,
     "metadata": {},
     "output_type": "execute_result"
    }
   ],
   "source": [
    "# Get pairwise distance.\n",
    "bwmd.pairwise(corpus)"
   ]
  },
  {
   "cell_type": "code",
   "execution_count": null,
   "metadata": {},
   "outputs": [],
   "source": []
  }
 ],
 "metadata": {
  "kernelspec": {
   "display_name": "Python 3 (ipykernel)",
   "language": "python",
   "name": "python3"
  },
  "language_info": {
   "codemirror_mode": {
    "name": "ipython",
    "version": 3
   },
   "file_extension": ".py",
   "mimetype": "text/x-python",
   "name": "python",
   "nbconvert_exporter": "python",
   "pygments_lexer": "ipython3",
   "version": "3.9.5"
  }
 },
 "nbformat": 4,
 "nbformat_minor": 2
}
